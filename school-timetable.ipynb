{
 "cells": [
  {
   "cell_type": "markdown",
   "metadata": {},
   "source": [
    "imports"
   ]
  },
  {
   "cell_type": "code",
   "execution_count": 1,
   "metadata": {},
   "outputs": [
    {
     "ename": "ModuleNotFoundError",
     "evalue": "No module named 'numpy'",
     "output_type": "error",
     "traceback": [
      "\u001b[31m---------------------------------------------------------------------------\u001b[39m",
      "\u001b[31mModuleNotFoundError\u001b[39m                       Traceback (most recent call last)",
      "\u001b[36mCell\u001b[39m\u001b[36m \u001b[39m\u001b[32mIn[1]\u001b[39m\u001b[32m, line 1\u001b[39m\n\u001b[32m----> \u001b[39m\u001b[32m1\u001b[39m \u001b[38;5;28;01mimport\u001b[39;00m\u001b[38;5;250m \u001b[39m\u001b[34;01mnumpy\u001b[39;00m\u001b[38;5;250m \u001b[39m\u001b[38;5;28;01mas\u001b[39;00m\u001b[38;5;250m \u001b[39m\u001b[34;01mnp\u001b[39;00m\n\u001b[32m      2\u001b[39m \u001b[38;5;28;01mimport\u001b[39;00m\u001b[38;5;250m \u001b[39m\u001b[34;01mrandom\u001b[39;00m\n",
      "\u001b[31mModuleNotFoundError\u001b[39m: No module named 'numpy'"
     ]
    }
   ],
   "source": [
    "import numpy as np\n",
    "import random"
   ]
  },
  {
   "cell_type": "code",
   "execution_count": null,
   "metadata": {},
   "outputs": [],
   "source": [
    "class Teacher:\n",
    "\tdef __init__(self, id, name, available_days):\n",
    "\t\tself.id = id\n",
    "\t\tself.name = name\n",
    "\t\tself.available_days = available_days\n",
    "\n",
    "\n",
    "\tdef __repr__(self):\n",
    "\t\treturn f\"Professor({self.nome})\"\n",
    "\n",
    "class Class:\n",
    "\tdef __init__(self, id, name, workload, assigned_teachers):\n",
    "\t\tself.id = id\n",
    "\t\tself.name = name\n",
    "\t\tself.workload = workload\n",
    "\t\tself.assigned_teachers = assigned_teachers\n",
    "\n",
    "\tdef able(self, teacher):\n",
    "\t\treturn teacher.id in self.assigned_teachers\n",
    "\n",
    "\tdef __repr__(self):\n",
    "\t\treturn f\"Class({self.name})\"\n",
    "\n",
    "class Timetable_solution:\n",
    "\tdef __init__(self, teachers, subjects, classes, available_schedule, days_per_week):\n",
    "\t\tself.teachers = teachers\n",
    "\t\tself.subjects = subjects\n",
    "\t\tself.classes = classes\n",
    "\t\tself.available_schedule = available_schedule\n",
    "\t\tself.days_per_week = days_per_week\n"
   ]
  }
 ],
 "metadata": {
  "kernelspec": {
   "display_name": "venv",
   "language": "python",
   "name": "python3"
  },
  "language_info": {
   "codemirror_mode": {
    "name": "ipython",
    "version": 3
   },
   "file_extension": ".py",
   "mimetype": "text/x-python",
   "name": "python",
   "nbconvert_exporter": "python",
   "pygments_lexer": "ipython3",
   "version": "3.12.3"
  }
 },
 "nbformat": 4,
 "nbformat_minor": 2
}
